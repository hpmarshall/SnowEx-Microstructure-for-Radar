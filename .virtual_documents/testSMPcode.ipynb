import glob


from snowmicropyn import Profile


match = 'profiles/*.PNT'

for f in glob.glob(match):
    print('Processing file ' + f)
    p = Profile.load(f)
    p.export_samples()
    p.export_meta(include_pnt_header=True)
    p.export_derivatives()





match = glob.glob('/Users/hpmarshall/DATA_DRIVE/GRANDMESA2020/SMP/**/*.PNT', 
                   recursive = True)


for f in match:
    print('Processing file ' + f)
    p = Profile.load(f)
    p.export_samples()
    p.export_meta(include_pnt_header=True)
    p.export_derivatives()





match = 'data/SMP/*.PNT'

for f in glob.glob(match):
    print('Processing file ' + f)
    p = Profile.load(f)
    p.export_samples()
    p.export_meta(include_pnt_header=True)
    p.export_derivatives()




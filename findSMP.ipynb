{
 "cells": [
  {
   "cell_type": "code",
   "execution_count": 1,
   "id": "5c8761f8-3dbd-4900-b6e8-8f210aadaeca",
   "metadata": {},
   "outputs": [],
   "source": [
    "from snowexsql.api import LayerMeasurements\n",
    "data_type = 'depth'"
   ]
  },
  {
   "cell_type": "code",
   "execution_count": 2,
   "id": "d4101397-65f2-4e13-b168-0ce1408ed931",
   "metadata": {},
   "outputs": [
    {
     "name": "stdout",
     "output_type": "stream",
     "text": [
      "Available types = sample_signal, force, density, grain_size, reflectance, permittivity, lwc_vol, manual_wetness, equivalent_diameter, specific_surface_area, grain_type, temperature, hand_hardness\n"
     ]
    }
   ],
   "source": [
    "measurements = LayerMeasurements()\n",
    "results = measurements.all_types\n",
    "print('Available types = {}'.format(', '.join([str(r) for r in results])))"
   ]
  },
  {
   "cell_type": "code",
   "execution_count": 3,
   "id": "b601342d-7de2-454d-b6ce-52d4fb7958ce",
   "metadata": {},
   "outputs": [
    {
     "name": "stdout",
     "output_type": "stream",
     "text": [
      "Available types = IS3-SP-15-01US, IRIS, None, snowmicropen, IS3-SP-11-01F\n"
     ]
    }
   ],
   "source": [
    "results = measurements.all_instruments\n",
    "print('Available types = {}'.format(', '.join([str(r) for r in results])))"
   ]
  },
  {
   "cell_type": "code",
   "execution_count": 4,
   "id": "f356f89b-80ee-470f-b530-2a5ef1dba245",
   "metadata": {},
   "outputs": [
    {
     "name": "stdout",
     "output_type": "stream",
     "text": [
      "Available types = Fairbanks, Fraser Experimental Forest, Boise River Basin, Little Cottonwood Canyon, North Slope, East River, Jemez River, Grand Mesa, Cameron Pass, Sagehen Creek, Mammoth Lakes, Niwot Ridge, American River Basin, Senator Beck, Central Ag Research Center\n"
     ]
    }
   ],
   "source": [
    "results = measurements.all_site_names\n",
    "print('Available types = {}'.format(', '.join([str(r) for r in results])))"
   ]
  },
  {
   "cell_type": "code",
   "execution_count": 5,
   "id": "5a5298dd-ca0a-4bfe-ad3f-d82d0590bba9",
   "metadata": {},
   "outputs": [
    {
     "name": "stdout",
     "output_type": "stream",
     "text": [
      "\n",
      "Available Dates = 2021-03-09, 2020-03-12, 2020-02-21, 2020-01-09, 2020-12-17, 2023-03-07, 2021-03-19, 2020-01-04, 2021-02-11, 2021-01-28, 2020-04-17, 2023-03-16, 2019-12-18, 2020-02-19, 2021-02-19, 2020-02-26, 2019-12-30, 2020-02-03, 2021-04-14, 2023-03-09, 2020-01-30, 2023-03-08, 2020-01-24, 2020-12-18, 2020-04-22, 2020-03-31, 2020-01-08, 2020-02-06, 2020-03-05, 2021-02-18, 2021-05-27, 2020-04-01, 2021-03-18, 2019-10-29, 2020-01-31, 2020-04-18, 2021-02-04, 2020-04-29, 2021-03-03, 2020-01-22, 2021-01-15, 2021-01-21, 2020-02-20, 2023-03-13, 2020-11-23, 2020-02-12, 2020-05-06, 2021-05-07, 2019-12-03, 2021-01-26, 2020-02-08, 2020-04-28, 2021-04-21, 2021-03-21, 2021-02-16, 2023-03-15, 2020-05-20, 2020-11-25, 2023-03-10, 2021-01-27, 2020-02-05, 2020-01-28, 2020-04-21, 2021-01-22, 2019-12-19, 2021-03-05, 2020-03-28, 2020-02-10, 2021-04-28, 2019-11-24, 2020-04-09, 2021-03-10, 2021-03-04, 2021-03-24, 2021-03-16, 2020-03-16, 2020-03-21, 2021-04-23, 2020-02-02, 2020-02-25, 2020-04-08, 2019-12-16, 2020-01-29, 2021-03-22, 2020-02-04, 2021-02-10, 2020-03-07, 2020-04-06, 2020-05-03, 2019-12-10, 2021-02-03, 2020-02-27, 2020-02-14, 2020-02-13, 2021-02-09, 2020-01-19, 2020-12-08, 2020-01-17, 2021-03-02, 2021-02-17, 2020-12-16, 2021-01-07, 2021-03-31, 2020-03-13, 2021-05-20, 2021-01-13, 2019-10-24, 2020-03-11, 2020-02-01, 2021-03-23, 2020-02-09, 2020-05-12, 2020-04-19, 2020-01-23, 2021-02-23, 2020-11-20, 2020-02-07, 2021-05-05, 2021-04-06, 2020-03-18, 2020-05-13, 2019-12-20, 2021-01-20, 2019-12-23, 2020-02-28, 2021-05-17, 2021-04-07, 2021-01-14, 2020-12-09, 2020-01-16, 2023-03-11, 2023-03-14, 2021-02-02, 2020-02-11, 2023-03-12, 2020-01-27, 2020-11-16, 2020-03-06, 2021-03-17, 2020-03-04, 2021-02-24, 2020-04-27, 2020-03-25, 2021-02-25, 2020-12-01\n"
     ]
    }
   ],
   "source": [
    "results = measurements.all_dates\n",
    "print('\\nAvailable Dates = {}'.format(', '.join([str(r) for r in results])))"
   ]
  },
  {
   "cell_type": "code",
   "execution_count": 6,
   "id": "6893c117-451a-4695-ad3c-02f1c52f36a3",
   "metadata": {},
   "outputs": [
    {
     "data": {
      "text/plain": [
       "[datetime.date(2020, 2, 4),\n",
       " datetime.date(2020, 2, 3),\n",
       " datetime.date(2020, 1, 30),\n",
       " datetime.date(2020, 2, 1),\n",
       " datetime.date(2020, 2, 6),\n",
       " datetime.date(2020, 1, 31),\n",
       " datetime.date(2020, 2, 12),\n",
       " datetime.date(2020, 2, 8),\n",
       " datetime.date(2020, 2, 5),\n",
       " datetime.date(2020, 1, 28),\n",
       " datetime.date(2020, 2, 11),\n",
       " datetime.date(2020, 2, 10),\n",
       " datetime.date(2020, 1, 29)]"
      ]
     },
     "execution_count": 6,
     "metadata": {},
     "output_type": "execute_result"
    }
   ],
   "source": [
    "LayerMeasurements.from_unique_entries(['date'], instrument='snowmicropen', site_name='Grand Mesa')"
   ]
  },
  {
   "cell_type": "code",
   "execution_count": 9,
   "id": "4bff5fef-0ed7-46cb-88af-34b57a37d090",
   "metadata": {},
   "outputs": [
    {
     "data": {
      "text/html": [
       "<div>\n",
       "<style scoped>\n",
       "    .dataframe tbody tr th:only-of-type {\n",
       "        vertical-align: middle;\n",
       "    }\n",
       "\n",
       "    .dataframe tbody tr th {\n",
       "        vertical-align: top;\n",
       "    }\n",
       "\n",
       "    .dataframe thead th {\n",
       "        text-align: right;\n",
       "    }\n",
       "</style>\n",
       "<table border=\"1\" class=\"dataframe\">\n",
       "  <thead>\n",
       "    <tr style=\"text-align: right;\">\n",
       "      <th></th>\n",
       "      <th>depth</th>\n",
       "      <th>site_id</th>\n",
       "      <th>pit_id</th>\n",
       "      <th>bottom_depth</th>\n",
       "      <th>comments</th>\n",
       "      <th>sample_a</th>\n",
       "      <th>sample_b</th>\n",
       "      <th>sample_c</th>\n",
       "      <th>value</th>\n",
       "      <th>flags</th>\n",
       "      <th>...</th>\n",
       "      <th>date</th>\n",
       "      <th>time_created</th>\n",
       "      <th>time_updated</th>\n",
       "      <th>id</th>\n",
       "      <th>doi</th>\n",
       "      <th>date_accessed</th>\n",
       "      <th>instrument</th>\n",
       "      <th>type</th>\n",
       "      <th>units</th>\n",
       "      <th>observers</th>\n",
       "    </tr>\n",
       "  </thead>\n",
       "  <tbody>\n",
       "    <tr>\n",
       "      <th>0</th>\n",
       "      <td>-3.55</td>\n",
       "      <td>COGM3S38_20200204</td>\n",
       "      <td>None</td>\n",
       "      <td>None</td>\n",
       "      <td>fname = SNEX20_SMP_S19M1095_3S38_20200204.CSV,...</td>\n",
       "      <td>None</td>\n",
       "      <td>None</td>\n",
       "      <td>None</td>\n",
       "      <td>0.052</td>\n",
       "      <td>None</td>\n",
       "      <td>...</td>\n",
       "      <td>2020-02-04</td>\n",
       "      <td>2022-07-06 16:33:38.300848+00:00</td>\n",
       "      <td>None</td>\n",
       "      <td>56036</td>\n",
       "      <td>https://doi.org/10.5067/ZYW6IHFRYDSE</td>\n",
       "      <td>2022-07-06</td>\n",
       "      <td>snowmicropen</td>\n",
       "      <td>force</td>\n",
       "      <td>Newtons</td>\n",
       "      <td>None</td>\n",
       "    </tr>\n",
       "    <tr>\n",
       "      <th>1</th>\n",
       "      <td>-3.59</td>\n",
       "      <td>COGM3S38_20200204</td>\n",
       "      <td>None</td>\n",
       "      <td>None</td>\n",
       "      <td>fname = SNEX20_SMP_S19M1095_3S38_20200204.CSV,...</td>\n",
       "      <td>None</td>\n",
       "      <td>None</td>\n",
       "      <td>None</td>\n",
       "      <td>0.05</td>\n",
       "      <td>None</td>\n",
       "      <td>...</td>\n",
       "      <td>2020-02-04</td>\n",
       "      <td>2022-07-06 16:33:38.300848+00:00</td>\n",
       "      <td>None</td>\n",
       "      <td>56037</td>\n",
       "      <td>https://doi.org/10.5067/ZYW6IHFRYDSE</td>\n",
       "      <td>2022-07-06</td>\n",
       "      <td>snowmicropen</td>\n",
       "      <td>force</td>\n",
       "      <td>Newtons</td>\n",
       "      <td>None</td>\n",
       "    </tr>\n",
       "    <tr>\n",
       "      <th>2</th>\n",
       "      <td>-3.64</td>\n",
       "      <td>COGM3S38_20200204</td>\n",
       "      <td>None</td>\n",
       "      <td>None</td>\n",
       "      <td>fname = SNEX20_SMP_S19M1095_3S38_20200204.CSV,...</td>\n",
       "      <td>None</td>\n",
       "      <td>None</td>\n",
       "      <td>None</td>\n",
       "      <td>0.047</td>\n",
       "      <td>None</td>\n",
       "      <td>...</td>\n",
       "      <td>2020-02-04</td>\n",
       "      <td>2022-07-06 16:33:38.300848+00:00</td>\n",
       "      <td>None</td>\n",
       "      <td>56038</td>\n",
       "      <td>https://doi.org/10.5067/ZYW6IHFRYDSE</td>\n",
       "      <td>2022-07-06</td>\n",
       "      <td>snowmicropen</td>\n",
       "      <td>force</td>\n",
       "      <td>Newtons</td>\n",
       "      <td>None</td>\n",
       "    </tr>\n",
       "    <tr>\n",
       "      <th>3</th>\n",
       "      <td>-3.68</td>\n",
       "      <td>COGM3S38_20200204</td>\n",
       "      <td>None</td>\n",
       "      <td>None</td>\n",
       "      <td>fname = SNEX20_SMP_S19M1095_3S38_20200204.CSV,...</td>\n",
       "      <td>None</td>\n",
       "      <td>None</td>\n",
       "      <td>None</td>\n",
       "      <td>0.05</td>\n",
       "      <td>None</td>\n",
       "      <td>...</td>\n",
       "      <td>2020-02-04</td>\n",
       "      <td>2022-07-06 16:33:38.300848+00:00</td>\n",
       "      <td>None</td>\n",
       "      <td>56039</td>\n",
       "      <td>https://doi.org/10.5067/ZYW6IHFRYDSE</td>\n",
       "      <td>2022-07-06</td>\n",
       "      <td>snowmicropen</td>\n",
       "      <td>force</td>\n",
       "      <td>Newtons</td>\n",
       "      <td>None</td>\n",
       "    </tr>\n",
       "    <tr>\n",
       "      <th>4</th>\n",
       "      <td>-3.72</td>\n",
       "      <td>COGM3S38_20200204</td>\n",
       "      <td>None</td>\n",
       "      <td>None</td>\n",
       "      <td>fname = SNEX20_SMP_S19M1095_3S38_20200204.CSV,...</td>\n",
       "      <td>None</td>\n",
       "      <td>None</td>\n",
       "      <td>None</td>\n",
       "      <td>0.055</td>\n",
       "      <td>None</td>\n",
       "      <td>...</td>\n",
       "      <td>2020-02-04</td>\n",
       "      <td>2022-07-06 16:33:38.300848+00:00</td>\n",
       "      <td>None</td>\n",
       "      <td>56040</td>\n",
       "      <td>https://doi.org/10.5067/ZYW6IHFRYDSE</td>\n",
       "      <td>2022-07-06</td>\n",
       "      <td>snowmicropen</td>\n",
       "      <td>force</td>\n",
       "      <td>Newtons</td>\n",
       "      <td>None</td>\n",
       "    </tr>\n",
       "    <tr>\n",
       "      <th>...</th>\n",
       "      <td>...</td>\n",
       "      <td>...</td>\n",
       "      <td>...</td>\n",
       "      <td>...</td>\n",
       "      <td>...</td>\n",
       "      <td>...</td>\n",
       "      <td>...</td>\n",
       "      <td>...</td>\n",
       "      <td>...</td>\n",
       "      <td>...</td>\n",
       "      <td>...</td>\n",
       "      <td>...</td>\n",
       "      <td>...</td>\n",
       "      <td>...</td>\n",
       "      <td>...</td>\n",
       "      <td>...</td>\n",
       "      <td>...</td>\n",
       "      <td>...</td>\n",
       "      <td>...</td>\n",
       "      <td>...</td>\n",
       "      <td>...</td>\n",
       "    </tr>\n",
       "    <tr>\n",
       "      <th>95</th>\n",
       "      <td>-7.48</td>\n",
       "      <td>COGM3S38_20200204</td>\n",
       "      <td>None</td>\n",
       "      <td>None</td>\n",
       "      <td>fname = SNEX20_SMP_S19M1095_3S38_20200204.CSV,...</td>\n",
       "      <td>None</td>\n",
       "      <td>None</td>\n",
       "      <td>None</td>\n",
       "      <td>0.053</td>\n",
       "      <td>None</td>\n",
       "      <td>...</td>\n",
       "      <td>2020-02-04</td>\n",
       "      <td>2022-07-06 16:33:38.300848+00:00</td>\n",
       "      <td>None</td>\n",
       "      <td>56131</td>\n",
       "      <td>https://doi.org/10.5067/ZYW6IHFRYDSE</td>\n",
       "      <td>2022-07-06</td>\n",
       "      <td>snowmicropen</td>\n",
       "      <td>force</td>\n",
       "      <td>Newtons</td>\n",
       "      <td>None</td>\n",
       "    </tr>\n",
       "    <tr>\n",
       "      <th>96</th>\n",
       "      <td>-7.52</td>\n",
       "      <td>COGM3S38_20200204</td>\n",
       "      <td>None</td>\n",
       "      <td>None</td>\n",
       "      <td>fname = SNEX20_SMP_S19M1095_3S38_20200204.CSV,...</td>\n",
       "      <td>None</td>\n",
       "      <td>None</td>\n",
       "      <td>None</td>\n",
       "      <td>0.06</td>\n",
       "      <td>None</td>\n",
       "      <td>...</td>\n",
       "      <td>2020-02-04</td>\n",
       "      <td>2022-07-06 16:33:38.300848+00:00</td>\n",
       "      <td>None</td>\n",
       "      <td>56132</td>\n",
       "      <td>https://doi.org/10.5067/ZYW6IHFRYDSE</td>\n",
       "      <td>2022-07-06</td>\n",
       "      <td>snowmicropen</td>\n",
       "      <td>force</td>\n",
       "      <td>Newtons</td>\n",
       "      <td>None</td>\n",
       "    </tr>\n",
       "    <tr>\n",
       "      <th>97</th>\n",
       "      <td>-7.56</td>\n",
       "      <td>COGM3S38_20200204</td>\n",
       "      <td>None</td>\n",
       "      <td>None</td>\n",
       "      <td>fname = SNEX20_SMP_S19M1095_3S38_20200204.CSV,...</td>\n",
       "      <td>None</td>\n",
       "      <td>None</td>\n",
       "      <td>None</td>\n",
       "      <td>0.051</td>\n",
       "      <td>None</td>\n",
       "      <td>...</td>\n",
       "      <td>2020-02-04</td>\n",
       "      <td>2022-07-06 16:33:38.300848+00:00</td>\n",
       "      <td>None</td>\n",
       "      <td>56133</td>\n",
       "      <td>https://doi.org/10.5067/ZYW6IHFRYDSE</td>\n",
       "      <td>2022-07-06</td>\n",
       "      <td>snowmicropen</td>\n",
       "      <td>force</td>\n",
       "      <td>Newtons</td>\n",
       "      <td>None</td>\n",
       "    </tr>\n",
       "    <tr>\n",
       "      <th>98</th>\n",
       "      <td>-7.60</td>\n",
       "      <td>COGM3S38_20200204</td>\n",
       "      <td>None</td>\n",
       "      <td>None</td>\n",
       "      <td>fname = SNEX20_SMP_S19M1095_3S38_20200204.CSV,...</td>\n",
       "      <td>None</td>\n",
       "      <td>None</td>\n",
       "      <td>None</td>\n",
       "      <td>0.052</td>\n",
       "      <td>None</td>\n",
       "      <td>...</td>\n",
       "      <td>2020-02-04</td>\n",
       "      <td>2022-07-06 16:33:38.300848+00:00</td>\n",
       "      <td>None</td>\n",
       "      <td>56134</td>\n",
       "      <td>https://doi.org/10.5067/ZYW6IHFRYDSE</td>\n",
       "      <td>2022-07-06</td>\n",
       "      <td>snowmicropen</td>\n",
       "      <td>force</td>\n",
       "      <td>Newtons</td>\n",
       "      <td>None</td>\n",
       "    </tr>\n",
       "    <tr>\n",
       "      <th>99</th>\n",
       "      <td>-7.64</td>\n",
       "      <td>COGM3S38_20200204</td>\n",
       "      <td>None</td>\n",
       "      <td>None</td>\n",
       "      <td>fname = SNEX20_SMP_S19M1095_3S38_20200204.CSV,...</td>\n",
       "      <td>None</td>\n",
       "      <td>None</td>\n",
       "      <td>None</td>\n",
       "      <td>0.057</td>\n",
       "      <td>None</td>\n",
       "      <td>...</td>\n",
       "      <td>2020-02-04</td>\n",
       "      <td>2022-07-06 16:33:38.300848+00:00</td>\n",
       "      <td>None</td>\n",
       "      <td>56135</td>\n",
       "      <td>https://doi.org/10.5067/ZYW6IHFRYDSE</td>\n",
       "      <td>2022-07-06</td>\n",
       "      <td>snowmicropen</td>\n",
       "      <td>force</td>\n",
       "      <td>Newtons</td>\n",
       "      <td>None</td>\n",
       "    </tr>\n",
       "  </tbody>\n",
       "</table>\n",
       "<p>100 rows × 29 columns</p>\n",
       "</div>"
      ],
      "text/plain": [
       "    depth            site_id pit_id bottom_depth  \\\n",
       "0   -3.55  COGM3S38_20200204   None         None   \n",
       "1   -3.59  COGM3S38_20200204   None         None   \n",
       "2   -3.64  COGM3S38_20200204   None         None   \n",
       "3   -3.68  COGM3S38_20200204   None         None   \n",
       "4   -3.72  COGM3S38_20200204   None         None   \n",
       "..    ...                ...    ...          ...   \n",
       "95  -7.48  COGM3S38_20200204   None         None   \n",
       "96  -7.52  COGM3S38_20200204   None         None   \n",
       "97  -7.56  COGM3S38_20200204   None         None   \n",
       "98  -7.60  COGM3S38_20200204   None         None   \n",
       "99  -7.64  COGM3S38_20200204   None         None   \n",
       "\n",
       "                                             comments sample_a sample_b  \\\n",
       "0   fname = SNEX20_SMP_S19M1095_3S38_20200204.CSV,...     None     None   \n",
       "1   fname = SNEX20_SMP_S19M1095_3S38_20200204.CSV,...     None     None   \n",
       "2   fname = SNEX20_SMP_S19M1095_3S38_20200204.CSV,...     None     None   \n",
       "3   fname = SNEX20_SMP_S19M1095_3S38_20200204.CSV,...     None     None   \n",
       "4   fname = SNEX20_SMP_S19M1095_3S38_20200204.CSV,...     None     None   \n",
       "..                                                ...      ...      ...   \n",
       "95  fname = SNEX20_SMP_S19M1095_3S38_20200204.CSV,...     None     None   \n",
       "96  fname = SNEX20_SMP_S19M1095_3S38_20200204.CSV,...     None     None   \n",
       "97  fname = SNEX20_SMP_S19M1095_3S38_20200204.CSV,...     None     None   \n",
       "98  fname = SNEX20_SMP_S19M1095_3S38_20200204.CSV,...     None     None   \n",
       "99  fname = SNEX20_SMP_S19M1095_3S38_20200204.CSV,...     None     None   \n",
       "\n",
       "   sample_c  value flags  ...        date                     time_created  \\\n",
       "0      None  0.052  None  ...  2020-02-04 2022-07-06 16:33:38.300848+00:00   \n",
       "1      None   0.05  None  ...  2020-02-04 2022-07-06 16:33:38.300848+00:00   \n",
       "2      None  0.047  None  ...  2020-02-04 2022-07-06 16:33:38.300848+00:00   \n",
       "3      None   0.05  None  ...  2020-02-04 2022-07-06 16:33:38.300848+00:00   \n",
       "4      None  0.055  None  ...  2020-02-04 2022-07-06 16:33:38.300848+00:00   \n",
       "..      ...    ...   ...  ...         ...                              ...   \n",
       "95     None  0.053  None  ...  2020-02-04 2022-07-06 16:33:38.300848+00:00   \n",
       "96     None   0.06  None  ...  2020-02-04 2022-07-06 16:33:38.300848+00:00   \n",
       "97     None  0.051  None  ...  2020-02-04 2022-07-06 16:33:38.300848+00:00   \n",
       "98     None  0.052  None  ...  2020-02-04 2022-07-06 16:33:38.300848+00:00   \n",
       "99     None  0.057  None  ...  2020-02-04 2022-07-06 16:33:38.300848+00:00   \n",
       "\n",
       "    time_updated     id                                   doi  date_accessed  \\\n",
       "0           None  56036  https://doi.org/10.5067/ZYW6IHFRYDSE     2022-07-06   \n",
       "1           None  56037  https://doi.org/10.5067/ZYW6IHFRYDSE     2022-07-06   \n",
       "2           None  56038  https://doi.org/10.5067/ZYW6IHFRYDSE     2022-07-06   \n",
       "3           None  56039  https://doi.org/10.5067/ZYW6IHFRYDSE     2022-07-06   \n",
       "4           None  56040  https://doi.org/10.5067/ZYW6IHFRYDSE     2022-07-06   \n",
       "..           ...    ...                                   ...            ...   \n",
       "95          None  56131  https://doi.org/10.5067/ZYW6IHFRYDSE     2022-07-06   \n",
       "96          None  56132  https://doi.org/10.5067/ZYW6IHFRYDSE     2022-07-06   \n",
       "97          None  56133  https://doi.org/10.5067/ZYW6IHFRYDSE     2022-07-06   \n",
       "98          None  56134  https://doi.org/10.5067/ZYW6IHFRYDSE     2022-07-06   \n",
       "99          None  56135  https://doi.org/10.5067/ZYW6IHFRYDSE     2022-07-06   \n",
       "\n",
       "      instrument   type    units observers  \n",
       "0   snowmicropen  force  Newtons      None  \n",
       "1   snowmicropen  force  Newtons      None  \n",
       "2   snowmicropen  force  Newtons      None  \n",
       "3   snowmicropen  force  Newtons      None  \n",
       "4   snowmicropen  force  Newtons      None  \n",
       "..           ...    ...      ...       ...  \n",
       "95  snowmicropen  force  Newtons      None  \n",
       "96  snowmicropen  force  Newtons      None  \n",
       "97  snowmicropen  force  Newtons      None  \n",
       "98  snowmicropen  force  Newtons      None  \n",
       "99  snowmicropen  force  Newtons      None  \n",
       "\n",
       "[100 rows x 29 columns]"
      ]
     },
     "execution_count": 9,
     "metadata": {},
     "output_type": "execute_result"
    },
    {
     "data": {
      "image/png": "[encoded data removed]",
      "text/plain": [
       "<Figure size 640x480 with 1 Axes>"
      ]
     },
     "metadata": {},
     "output_type": "display_data"
    }
   ],
   "source": [
    "# Find some density pit measurements at the Boise site in december 2019.\n",
    "from snowexsql.api import LayerMeasurements\n",
    "from datetime import datetime \n",
    "dt = datetime(2020, 2, 4)\n",
    "df = LayerMeasurements.from_filter(\n",
    "    instrument='snowmicropen',\n",
    "    site_name=\"Grand Mesa\",\n",
    "    date=dt,\n",
    "    limit=100\n",
    ")\n",
    "\n",
    "# Plot Example!\n",
    "df.plot()\n",
    "\n",
    "# Show off the dataframe\n",
    "df"
   ]
  },
  {
   "cell_type": "code",
   "execution_count": 10,
   "id": "cf54f5a2-fe15-4619-8aa4-b8ef66a9f02c",
   "metadata": {},
   "outputs": [
    {
     "data": {
      "text/plain": [
       "['fname = SNEX20_SMP_S19M1093_5S29_20200204.CSV, serial no. = 19',\n",
       " 'fname = SNEX20_SMP_S19M1065_3S33_20200204.CSV, serial no. = 19',\n",
       " 'fname = SNEX20_SMP_S19M1094_5S29_20200204.CSV, serial no. = 19',\n",
       " 'fname = SNEX20_SMP_S19M1047_6S34_20200204.CSV, serial no. = 19',\n",
       " 'fname = SNEX20_SMP_S19M1085_5S29_20200204.CSV, serial no. = 19',\n",
       " 'fname = SNEX20_SMP_S19M1074_3S33_20200204.CSV, serial no. = 19',\n",
       " 'fname = SNEX20_SMP_S19M1025_6S34_20200204.CSV, serial no. = 19',\n",
       " 'fname = SNEX20_SMP_S19M1067_3S33_20200204.CSV, serial no. = 19',\n",
       " 'fname = SNEX20_SMP_S19M1039_6S34_20200204.CSV, serial no. = 19',\n",
       " 'fname = SNEX20_SMP_S19M1051_3S33_20200204.CSV, serial no. = 19',\n",
       " 'fname = SNEX20_SMP_S19M1036_6S34_20200204.CSV, serial no. = 19',\n",
       " 'fname = SNEX20_SMP_S19M1072_3S33_20200204.CSV, serial no. = 19',\n",
       " 'fname = SNEX20_SMP_S19M1064_3S33_20200204.CSV, serial no. = 19',\n",
       " 'fname = SNEX20_SMP_S19M1070_3S33_20200204.CSV, serial no. = 19',\n",
       " 'fname = SNEX20_SMP_S19M1068_3S33_20200204.CSV, serial no. = 19',\n",
       " 'fname = SNEX20_SMP_S19M1066_3S33_20200204.CSV, serial no. = 19',\n",
       " 'fname = SNEX20_SMP_S19M1071_3S33_20200204.CSV, serial no. = 19',\n",
       " 'fname = SNEX20_SMP_S19M1078_5S29_20200204.CSV, serial no. = 19',\n",
       " 'fname = SNEX20_SMP_S19M1081_5S29_20200204.CSV, serial no. = 19',\n",
       " 'fname = SNEX20_SMP_S19M1030_6S34_20200204.CSV, serial no. = 19',\n",
       " 'fname = SNEX20_SMP_S19M1073_3S33_20200204.CSV, serial no. = 19',\n",
       " 'fname = SNEX20_SMP_S19M1083_5S29_20200204.CSV, serial no. = 19',\n",
       " 'fname = SNEX20_SMP_S19M1046_6S34_20200204.CSV, serial no. = 19',\n",
       " 'fname = SNEX20_SMP_S19M1033_6S34_20200204.CSV, serial no. = 19',\n",
       " 'fname = SNEX20_SMP_S19M1060_3S33_20200204.CSV, serial no. = 19',\n",
       " 'fname = SNEX20_SMP_S19M1089_5S29_20200204.CSV, serial no. = 19',\n",
       " 'fname = SNEX20_SMP_S19M1024_6S34_20200204.CSV, serial no. = 19',\n",
       " 'fname = SNEX20_SMP_S19M1045_6S34_20200204.CSV, serial no. = 19',\n",
       " 'fname = SNEX20_SMP_S19M1061_3S33_20200204.CSV, serial no. = 19',\n",
       " 'fname = SNEX20_SMP_S19M1037_6S34_20200204.CSV, serial no. = 19',\n",
       " 'fname = SNEX20_SMP_S19M1032_6S34_20200204.CSV, serial no. = 19',\n",
       " 'fname = SNEX20_SMP_S19M1052_3S33_20200204.CSV, serial no. = 19',\n",
       " 'fname = SNEX20_SMP_S19M1048_6S34_20200204.CSV, serial no. = 19',\n",
       " 'fname = SNEX20_SMP_S19M1062_3S33_20200204.CSV, serial no. = 19',\n",
       " 'fname = SNEX20_SMP_S19M1056_3S33_20200204.CSV, serial no. = 19',\n",
       " 'fname = SNEX20_SMP_S19M1043_6S34_20200204.CSV, serial no. = 19',\n",
       " 'fname = SNEX20_SMP_S19M1097_3S38_20200204.CSV, serial no. = 19',\n",
       " 'fname = SNEX20_SMP_S19M1034_6S34_20200204.CSV, serial no. = 19',\n",
       " 'fname = SNEX20_SMP_S19M1027_6S34_20200204.CSV, serial no. = 19',\n",
       " 'fname = SNEX20_SMP_S19M1059_3S33_20200204.CSV, serial no. = 19',\n",
       " 'fname = SNEX20_SMP_S19M1087_5S29_20200204.CSV, serial no. = 19',\n",
       " 'fname = SNEX20_SMP_S19M1096_3S38_20200204.CSV, serial no. = 19',\n",
       " 'fname = SNEX20_SMP_S19M1042_6S34_20200204.CSV, serial no. = 19',\n",
       " 'fname = SNEX20_SMP_S19M1095_3S38_20200204.CSV, serial no. = 19',\n",
       " 'fname = SNEX20_SMP_S19M1028_6S34_20200204.CSV, serial no. = 19',\n",
       " 'fname = SNEX20_SMP_S19M1040_6S34_20200204.CSV, serial no. = 19',\n",
       " 'fname = SNEX20_SMP_S19M1050_6S34_20200204.CSV, serial no. = 19',\n",
       " 'fname = SNEX20_SMP_S19M1026_6S34_20200204.CSV, serial no. = 19',\n",
       " 'fname = SNEX20_SMP_S19M1080_5S29_20200204.CSV, serial no. = 19',\n",
       " 'fname = SNEX20_SMP_S19M1063_3S33_20200204.CSV, serial no. = 19',\n",
       " 'fname = SNEX20_SMP_S19M1088_5S29_20200204.CSV, serial no. = 19',\n",
       " 'fname = SNEX20_SMP_S19M1041_6S34_20200204.CSV, serial no. = 19',\n",
       " 'fname = SNEX20_SMP_S19M1055_3S33_20200204.CSV, serial no. = 19',\n",
       " 'fname = SNEX20_SMP_S19M1091_5S29_20200204.CSV, serial no. = 19',\n",
       " 'fname = SNEX20_SMP_S19M1075_3S33_20200204.CSV, serial no. = 19',\n",
       " 'fname = SNEX20_SMP_S19M1031_6S34_20200204.CSV, serial no. = 19',\n",
       " 'fname = SNEX20_SMP_S19M1069_3S33_20200204.CSV, serial no. = 19',\n",
       " 'fname = SNEX20_SMP_S19M1049_6S34_20200204.CSV, serial no. = 19',\n",
       " 'fname = SNEX20_SMP_S19M1057_3S33_20200204.CSV, serial no. = 19',\n",
       " 'fname = SNEX20_SMP_S19M1082_5S29_20200204.CSV, serial no. = 19',\n",
       " 'fname = SNEX20_SMP_S19M1077_5S29_20200204.CSV, serial no. = 19',\n",
       " 'fname = SNEX20_SMP_S19M1029_6S34_20200204.CSV, serial no. = 19',\n",
       " 'fname = SNEX20_SMP_S19M1079_5S29_20200204.CSV, serial no. = 19',\n",
       " 'fname = SNEX20_SMP_S19M1092_5S29_20200204.CSV, serial no. = 19',\n",
       " 'fname = SNEX20_SMP_S19M1035_6S34_20200204.CSV, serial no. = 19',\n",
       " 'fname = SNEX20_SMP_S19M1058_3S33_20200204.CSV, serial no. = 19']"
      ]
     },
     "execution_count": 10,
     "metadata": {},
     "output_type": "execute_result"
    }
   ],
   "source": [
    "LayerMeasurements.from_unique_entries(['comments'],date=dt, instrument='snowmicropen', site_name='Grand Mesa')"
   ]
  },
  {
   "cell_type": "code",
   "execution_count": 11,
   "id": "d1efdb4a-103d-400e-8d39-f8f5b1cad132",
   "metadata": {},
   "outputs": [],
   "source": [
    "import geopandas as gpd\n",
    "import matplotlib.pyplot as plt"
   ]
  },
  {
   "cell_type": "code",
   "execution_count": 12,
   "id": "1ac30288-6359-4d3a-aed9-8f5a2f1af626",
   "metadata": {},
   "outputs": [
    {
     "name": "stdout",
     "output_type": "stream",
     "text": [
      "/home/jovyan/microsnowex2024\n"
     ]
    }
   ],
   "source": [
    "!pwd"
   ]
  },
  {
   "cell_type": "code",
   "execution_count": 13,
   "id": "50e90c6c-35e5-4b46-b818-3aa25bfda4cc",
   "metadata": {},
   "outputs": [],
   "source": [
    "df2 = gpd.read_file(\"swesarr-roi.shp\")"
   ]
  },
  {
   "cell_type": "code",
   "execution_count": 14,
   "id": "3d0f6f9f-9499-42be-bffc-7714bba487d4",
   "metadata": {},
   "outputs": [
    {
     "data": {
      "text/plain": [
       "<Axes: >"
      ]
     },
     "execution_count": 14,
     "metadata": {},
     "output_type": "execute_result"
    },
    {
     "data": {
      "image/png": "[encoded data removed]",
      "text/plain": [
       "<Figure size 1200x800 with 1 Axes>"
      ]
     },
     "metadata": {},
     "output_type": "display_data"
    }
   ],
   "source": [
    "fig = plt.figure(figsize=[12,8])\n",
    "ax = fig.add_axes([0, 0, 1, 1])\n",
    "df2.plot(ax=ax)"
   ]
  },
  {
   "cell_type": "code",
   "execution_count": 15,
   "id": "73c4fe8d-c663-4875-9439-0983763f9b56",
   "metadata": {},
   "outputs": [
    {
     "data": {
      "image/svg+xml": [
       "<svg xmlns=\"http://www.w3.org/2000/svg\" xmlns:xlink=\"http://www.w3.org/1999/xlink\" width=\"300\" height=\"300\" viewBox=\"740869.8010793859 4322270.919254883 2011.5748953677248 926.3530404604971\" preserveAspectRatio=\"xMinYMin meet\"><g transform=\"matrix(1,0,0,-1,0,8645468.191550227)\"><path fill-rule=\"evenodd\" fill=\"#66cc99\" stroke=\"#555555\" stroke-width=\"13.410499302451498\" opacity=\"0.6\" d=\"M 741035.6077682596,4323122.769521441 L 742806.8732008511,4322981.931958243 L 742744.2646405416,4322345.422028786 L 740944.3038532884,4322517.562325507 L 741035.6077682596,4323122.769521441 z\" /></g></svg>"
      ],
      "text/plain": [
       "<POLYGON ((741035.608 4323122.77, 742806.873 4322981.932, 742744.265 4322345...>"
      ]
     },
     "execution_count": 15,
     "metadata": {},
     "output_type": "execute_result"
    }
   ],
   "source": [
    "df2.crs\n",
    "gdf = df2.to_crs(26912)\n",
    "gdf.geometry[0]"
   ]
  },
  {
   "cell_type": "code",
   "execution_count": 16,
   "id": "c99a7c40-e8bf-4461-8966-de5c8a3ae75d",
   "metadata": {},
   "outputs": [],
   "source": [
    "site_df = LayerMeasurements.from_filter(site_id='2s7', limit=1)"
   ]
  },
  {
   "cell_type": "code",
   "execution_count": 20,
   "id": "1f6675f4-7e6c-47d3-b4a6-25f5f0445613",
   "metadata": {},
   "outputs": [],
   "source": [
    "import numpy as np"
   ]
  },
  {
   "cell_type": "code",
   "execution_count": 48,
   "id": "82d4445e-aa74-4b7c-a72c-0cb1c6b1d36c",
   "metadata": {},
   "outputs": [],
   "source": [
    "s=LayerMeasurements.from_area(shp=gdf.geometry[0], instrument='snowmicropen', site_name='Grand Mesa', limit=276255)"
   ]
  },
  {
   "cell_type": "code",
   "execution_count": 50,
   "id": "6828417e-3eac-469a-9553-4eb634de26c5",
   "metadata": {},
   "outputs": [
    {
     "data": {
      "text/plain": [
       "array(['COGM1S1_20200129', 'COGM1S2_20200208', 'COGM1S8_20200201',\n",
       "       'COGM2S3_20200129', 'COGM2S7_20200208', 'COGM3S5_20200129'],\n",
       "      dtype=object)"
      ]
     },
     "execution_count": 50,
     "metadata": {},
     "output_type": "execute_result"
    }
   ],
   "source": [
    "np.unique(s['site_id'])"
   ]
  },
  {
   "cell_type": "code",
   "execution_count": 26,
   "id": "327982f6-275f-4142-b74c-cf112a947c7b",
   "metadata": {},
   "outputs": [
    {
     "data": {
      "text/plain": [
       "array(['fname = SNEX20_SMP_S19M0798_1S1_20200129.CSV, serial no. = 19',\n",
       "       'fname = SNEX20_SMP_S19M0799_1S1_20200129.CSV, serial no. = 19',\n",
       "       'fname = SNEX20_SMP_S19M0800_1S1_20200129.CSV, serial no. = 19',\n",
       "       'fname = SNEX20_SMP_S19M0801_1S1_20200129.CSV, serial no. = 19',\n",
       "       'fname = SNEX20_SMP_S19M0802_1S1_20200129.CSV, serial no. = 19',\n",
       "       'fname = SNEX20_SMP_S19M0803_1S1_20200129.CSV, serial no. = 19',\n",
       "       'fname = SNEX20_SMP_S19M0804_1S1_20200129.CSV, serial no. = 19',\n",
       "       'fname = SNEX20_SMP_S19M0805_1S1_20200129.CSV, serial no. = 19',\n",
       "       'fname = SNEX20_SMP_S19M0806_1S1_20200129.CSV, serial no. = 19',\n",
       "       'fname = SNEX20_SMP_S19M0807_1S1_20200129.CSV, serial no. = 19',\n",
       "       'fname = SNEX20_SMP_S19M0808_1S1_20200129.CSV, serial no. = 19',\n",
       "       'fname = SNEX20_SMP_S19M0809_1S1_20200129.CSV, serial no. = 19',\n",
       "       'fname = SNEX20_SMP_S19M0810_1S1_20200129.CSV, serial no. = 19',\n",
       "       'fname = SNEX20_SMP_S19M0811_1S1_20200129.CSV, serial no. = 19',\n",
       "       'fname = SNEX20_SMP_S19M0812_1S1_20200129.CSV, serial no. = 19',\n",
       "       'fname = SNEX20_SMP_S19M0813_1S1_20200129.CSV, serial no. = 19',\n",
       "       'fname = SNEX20_SMP_S19M0814_1S1_20200129.CSV, serial no. = 19',\n",
       "       'fname = SNEX20_SMP_S19M0815_1S1_20200129.CSV, serial no. = 19',\n",
       "       'fname = SNEX20_SMP_S19M0816_1S1_20200129.CSV, serial no. = 19',\n",
       "       'fname = SNEX20_SMP_S19M0817_1S1_20200129.CSV, serial no. = 19',\n",
       "       'fname = SNEX20_SMP_S19M0818_1S1_20200129.CSV, serial no. = 19',\n",
       "       'fname = SNEX20_SMP_S19M0819_1S1_20200129.CSV, serial no. = 19',\n",
       "       'fname = SNEX20_SMP_S19M0820_1S1_20200129.CSV, serial no. = 19',\n",
       "       'fname = SNEX20_SMP_S19M0821_1S1_20200129.CSV, serial no. = 19',\n",
       "       'fname = SNEX20_SMP_S19M0822_2S3_20200129.CSV, serial no. = 19',\n",
       "       'fname = SNEX20_SMP_S19M0823_2S3_20200129.CSV, serial no. = 19',\n",
       "       'fname = SNEX20_SMP_S19M0824_2S3_20200129.CSV, serial no. = 19',\n",
       "       'fname = SNEX20_SMP_S19M0825_2S3_20200129.CSV, serial no. = 19',\n",
       "       'fname = SNEX20_SMP_S19M0826_2S3_20200129.CSV, serial no. = 19',\n",
       "       'fname = SNEX20_SMP_S19M0827_2S3_20200129.CSV, serial no. = 19',\n",
       "       'fname = SNEX20_SMP_S19M0828_2S3_20200129.CSV, serial no. = 19',\n",
       "       'fname = SNEX20_SMP_S19M0829_2S3_20200129.CSV, serial no. = 19',\n",
       "       'fname = SNEX20_SMP_S19M0830_2S3_20200129.CSV, serial no. = 19',\n",
       "       'fname = SNEX20_SMP_S19M0831_2S3_20200129.CSV, serial no. = 19',\n",
       "       'fname = SNEX20_SMP_S19M0832_2S3_20200129.CSV, serial no. = 19',\n",
       "       'fname = SNEX20_SMP_S19M0833_2S3_20200129.CSV, serial no. = 19',\n",
       "       'fname = SNEX20_SMP_S19M0834_2S3_20200129.CSV, serial no. = 19',\n",
       "       'fname = SNEX20_SMP_S19M0835_2S3_20200129.CSV, serial no. = 19',\n",
       "       'fname = SNEX20_SMP_S19M0836_2S3_20200129.CSV, serial no. = 19',\n",
       "       'fname = SNEX20_SMP_S19M0837_2S3_20200129.CSV, serial no. = 19',\n",
       "       'fname = SNEX20_SMP_S19M0838_2S3_20200129.CSV, serial no. = 19',\n",
       "       'fname = SNEX20_SMP_S19M0839_2S3_20200129.CSV, serial no. = 19',\n",
       "       'fname = SNEX20_SMP_S19M0840_2S3_20200129.CSV, serial no. = 19',\n",
       "       'fname = SNEX20_SMP_S19M0841_2S3_20200129.CSV, serial no. = 19',\n",
       "       'fname = SNEX20_SMP_S19M0842_2S3_20200129.CSV, serial no. = 19',\n",
       "       'fname = SNEX20_SMP_S19M0843_2S3_20200129.CSV, serial no. = 19',\n",
       "       'fname = SNEX20_SMP_S19M0844_2S3_20200129.CSV, serial no. = 19',\n",
       "       'fname = SNEX20_SMP_S19M0845_2S3_20200129.CSV, serial no. = 19',\n",
       "       'fname = SNEX20_SMP_S19M0846_3S5_20200129.CSV, serial no. = 19',\n",
       "       'fname = SNEX20_SMP_S19M0903_1S8_20200201.CSV, serial no. = 19',\n",
       "       'fname = SNEX20_SMP_S19M0904_1S8_20200201.CSV, serial no. = 19',\n",
       "       'fname = SNEX20_SMP_S19M0905_1S8_20200201.CSV, serial no. = 19',\n",
       "       'fname = SNEX20_SMP_S19M0906_1S8_20200201.CSV, serial no. = 19',\n",
       "       'fname = SNEX20_SMP_S19M0907_1S8_20200201.CSV, serial no. = 19',\n",
       "       'fname = SNEX20_SMP_S19M0908_1S8_20200201.CSV, serial no. = 19',\n",
       "       'fname = SNEX20_SMP_S19M0909_1S8_20200201.CSV, serial no. = 19',\n",
       "       'fname = SNEX20_SMP_S19M0910_1S8_20200201.CSV, serial no. = 19',\n",
       "       'fname = SNEX20_SMP_S19M0911_1S8_20200201.CSV, serial no. = 19',\n",
       "       'fname = SNEX20_SMP_S19M0912_1S8_20200201.CSV, serial no. = 19',\n",
       "       'fname = SNEX20_SMP_S19M0913_1S8_20200201.CSV, serial no. = 19',\n",
       "       'fname = SNEX20_SMP_S19M0914_1S8_20200201.CSV, serial no. = 19',\n",
       "       'fname = SNEX20_SMP_S19M0915_1S8_20200201.CSV, serial no. = 19',\n",
       "       'fname = SNEX20_SMP_S19M0916_1S8_20200201.CSV, serial no. = 19',\n",
       "       'fname = SNEX20_SMP_S19M0917_1S8_20200201.CSV, serial no. = 19',\n",
       "       'fname = SNEX20_SMP_S19M0918_1S8_20200201.CSV, serial no. = 19',\n",
       "       'fname = SNEX20_SMP_S19M0919_1S8_20200201.CSV, serial no. = 19',\n",
       "       'fname = SNEX20_SMP_S19M0920_1S8_20200201.CSV, serial no. = 19',\n",
       "       'fname = SNEX20_SMP_S19M0921_1S8_20200201.CSV, serial no. = 19',\n",
       "       'fname = SNEX20_SMP_S19M0922_1S8_20200201.CSV, serial no. = 19',\n",
       "       'fname = SNEX20_SMP_S19M0923_1S8_20200201.CSV, serial no. = 19',\n",
       "       'fname = SNEX20_SMP_S19M0924_1S8_20200201.CSV, serial no. = 19',\n",
       "       'fname = SNEX20_SMP_S19M0925_1S8_20200201.CSV, serial no. = 19',\n",
       "       'fname = SNEX20_SMP_S19M0926_1S8_20200201.CSV, serial no. = 19',\n",
       "       'fname = SNEX20_SMP_S19M0927_1S8_20200201.CSV, serial no. = 19',\n",
       "       'fname = SNEX20_SMP_S19M0928_1S8_20200201.CSV, serial no. = 19',\n",
       "       'fname = SNEX20_SMP_S19M0929_1S8_20200201.CSV, serial no. = 19',\n",
       "       'fname = SNEX20_SMP_S19M0930_1S8_20200201.CSV, serial no. = 19',\n",
       "       'fname = SNEX20_SMP_S19M0931_1S8_20200201.CSV, serial no. = 19',\n",
       "       'fname = SNEX20_SMP_S19M0932_1S8_20200201.CSV, serial no. = 19',\n",
       "       'fname = SNEX20_SMP_S19M0933_1S8_20200201.CSV, serial no. = 19',\n",
       "       'fname = SNEX20_SMP_S19M0934_1S8_20200201.CSV, serial no. = 19',\n",
       "       'fname = SNEX20_SMP_S19M0935_1S8_20200201.CSV, serial no. = 19',\n",
       "       'fname = SNEX20_SMP_S19M0936_1S8_20200201.CSV, serial no. = 19',\n",
       "       'fname = SNEX20_SMP_S19M0937_1S8_20200201.CSV, serial no. = 19',\n",
       "       'fname = SNEX20_SMP_S19M0938_1S8_20200201.CSV, serial no. = 19',\n",
       "       'fname = SNEX20_SMP_S19M0939_1S8_20200201.CSV, serial no. = 19',\n",
       "       'fname = SNEX20_SMP_S19M0940_1S8_20200201.CSV, serial no. = 19',\n",
       "       'fname = SNEX20_SMP_S19M0941_1S8_20200201.CSV, serial no. = 19',\n",
       "       'fname = SNEX20_SMP_S19M0944_1S8_20200201.CSV, serial no. = 19',\n",
       "       'fname = SNEX20_SMP_S19M1214_1S2_20200208.CSV, serial no. = 19',\n",
       "       'fname = SNEX20_SMP_S19M1215_1S2_20200208.CSV, serial no. = 19',\n",
       "       'fname = SNEX20_SMP_S19M1216_1S2_20200208.CSV, serial no. = 19',\n",
       "       'fname = SNEX20_SMP_S19M1217_1S2_20200208.CSV, serial no. = 19',\n",
       "       'fname = SNEX20_SMP_S19M1218_1S2_20200208.CSV, serial no. = 19',\n",
       "       'fname = SNEX20_SMP_S19M1220_1S2_20200208.CSV, serial no. = 19',\n",
       "       'fname = SNEX20_SMP_S19M1221_1S2_20200208.CSV, serial no. = 19',\n",
       "       'fname = SNEX20_SMP_S19M1222_1S2_20200208.CSV, serial no. = 19',\n",
       "       'fname = SNEX20_SMP_S19M1224_1S2_20200208.CSV, serial no. = 19',\n",
       "       'fname = SNEX20_SMP_S19M1225_1S2_20200208.CSV, serial no. = 19',\n",
       "       'fname = SNEX20_SMP_S19M1226_1S2_20200208.CSV, serial no. = 19',\n",
       "       'fname = SNEX20_SMP_S19M1228_1S2_20200208.CSV, serial no. = 19',\n",
       "       'fname = SNEX20_SMP_S19M1230_1S2_20200208.CSV, serial no. = 19',\n",
       "       'fname = SNEX20_SMP_S19M1233_1S2_20200208.CSV, serial no. = 19',\n",
       "       'fname = SNEX20_SMP_S19M1234_1S2_20200208.CSV, serial no. = 19',\n",
       "       'fname = SNEX20_SMP_S19M1235_1S2_20200208.CSV, serial no. = 19',\n",
       "       'fname = SNEX20_SMP_S19M1236_2S7_20200208.CSV, serial no. = 19',\n",
       "       'fname = SNEX20_SMP_S19M1237_2S7_20200208.CSV, serial no. = 19',\n",
       "       'fname = SNEX20_SMP_S19M1239_2S7_20200208.CSV, serial no. = 19',\n",
       "       'fname = SNEX20_SMP_S19M1240_2S7_20200208.CSV, serial no. = 19',\n",
       "       'fname = SNEX20_SMP_S19M1241_2S7_20200208.CSV, serial no. = 19',\n",
       "       'fname = SNEX20_SMP_S19M1242_2S7_20200208.CSV, serial no. = 19',\n",
       "       'fname = SNEX20_SMP_S19M1243_2S7_20200208.CSV, serial no. = 19',\n",
       "       'fname = SNEX20_SMP_S19M1244_2S7_20200208.CSV, serial no. = 19',\n",
       "       'fname = SNEX20_SMP_S19M1245_2S7_20200208.CSV, serial no. = 19',\n",
       "       'fname = SNEX20_SMP_S19M1246_2S7_20200208.CSV, serial no. = 19',\n",
       "       'fname = SNEX20_SMP_S19M1247_2S7_20200208.CSV, serial no. = 19',\n",
       "       'fname = SNEX20_SMP_S19M1249_2S7_20200208.CSV, serial no. = 19',\n",
       "       'fname = SNEX20_SMP_S19M1250_2S7_20200208.CSV, serial no. = 19',\n",
       "       'fname = SNEX20_SMP_S19M1251_2S7_20200208.CSV, serial no. = 19',\n",
       "       'fname = SNEX20_SMP_S19M1254_2S7_20200208.CSV, serial no. = 19',\n",
       "       'fname = SNEX20_SMP_S19M1255_2S7_20200208.CSV, serial no. = 19',\n",
       "       'fname = SNEX20_SMP_S19M1256_2S7_20200208.CSV, serial no. = 19',\n",
       "       'fname = SNEX20_SMP_S19M1257_2S7_20200208.CSV, serial no. = 19'],\n",
       "      dtype=object)"
      ]
     },
     "execution_count": 26,
     "metadata": {},
     "output_type": "execute_result"
    }
   ],
   "source": [
    "np.unique(s['comments'])"
   ]
  },
  {
   "cell_type": "code",
   "execution_count": 46,
   "id": "a7d0486d-c136-46a7-9582-7e2d05e70d5a",
   "metadata": {},
   "outputs": [],
   "source": [
    "s=LayerMeasurements.from_area(shp=gdf.geometry[0], instrument='IRIS', site_name='Grand Mesa')"
   ]
  },
  {
   "cell_type": "code",
   "execution_count": 47,
   "id": "66266642-0a27-4df5-8b83-d093711645d8",
   "metadata": {},
   "outputs": [
    {
     "data": {
      "text/plain": [
       "array(['1S1', '1S8', '2S3', '2S4', '2S6', '3S5'], dtype=object)"
      ]
     },
     "execution_count": 47,
     "metadata": {},
     "output_type": "execute_result"
    }
   ],
   "source": [
    "np.unique(s['site_id'])"
   ]
  },
  {
   "cell_type": "code",
   "execution_count": 44,
   "id": "7fa0ca84-f328-4331-bdd6-c4e4a640812b",
   "metadata": {},
   "outputs": [
    {
     "data": {
      "text/html": [
       "<div>\n",
       "<style scoped>\n",
       "    .dataframe tbody tr th:only-of-type {\n",
       "        vertical-align: middle;\n",
       "    }\n",
       "\n",
       "    .dataframe tbody tr th {\n",
       "        vertical-align: top;\n",
       "    }\n",
       "\n",
       "    .dataframe thead th {\n",
       "        text-align: right;\n",
       "    }\n",
       "</style>\n",
       "<table border=\"1\" class=\"dataframe\">\n",
       "  <thead>\n",
       "    <tr style=\"text-align: right;\">\n",
       "      <th></th>\n",
       "      <th>depth</th>\n",
       "      <th>value</th>\n",
       "    </tr>\n",
       "  </thead>\n",
       "  <tbody>\n",
       "    <tr>\n",
       "      <th>0</th>\n",
       "      <td>73.0</td>\n",
       "      <td>631.0</td>\n",
       "    </tr>\n",
       "    <tr>\n",
       "      <th>1</th>\n",
       "      <td>83.0</td>\n",
       "      <td>46.91</td>\n",
       "    </tr>\n",
       "    <tr>\n",
       "      <th>2</th>\n",
       "      <td>80.0</td>\n",
       "      <td>44.34</td>\n",
       "    </tr>\n",
       "    <tr>\n",
       "      <th>3</th>\n",
       "      <td>78.0</td>\n",
       "      <td>44.63</td>\n",
       "    </tr>\n",
       "    <tr>\n",
       "      <th>4</th>\n",
       "      <td>73.0</td>\n",
       "      <td>40.13</td>\n",
       "    </tr>\n",
       "    <tr>\n",
       "      <th>...</th>\n",
       "      <td>...</td>\n",
       "      <td>...</td>\n",
       "    </tr>\n",
       "    <tr>\n",
       "      <th>63</th>\n",
       "      <td>38.0</td>\n",
       "      <td>15.49</td>\n",
       "    </tr>\n",
       "    <tr>\n",
       "      <th>64</th>\n",
       "      <td>33.0</td>\n",
       "      <td>14.96</td>\n",
       "    </tr>\n",
       "    <tr>\n",
       "      <th>65</th>\n",
       "      <td>28.0</td>\n",
       "      <td>11.98</td>\n",
       "    </tr>\n",
       "    <tr>\n",
       "      <th>66</th>\n",
       "      <td>23.0</td>\n",
       "      <td>10.32</td>\n",
       "    </tr>\n",
       "    <tr>\n",
       "      <th>67</th>\n",
       "      <td>18.0</td>\n",
       "      <td>11.2</td>\n",
       "    </tr>\n",
       "  </tbody>\n",
       "</table>\n",
       "<p>68 rows × 2 columns</p>\n",
       "</div>"
      ],
      "text/plain": [
       "    depth  value\n",
       "0    73.0  631.0\n",
       "1    83.0  46.91\n",
       "2    80.0  44.34\n",
       "3    78.0  44.63\n",
       "4    73.0  40.13\n",
       "..    ...    ...\n",
       "63   38.0  15.49\n",
       "64   33.0  14.96\n",
       "65   28.0  11.98\n",
       "66   23.0  10.32\n",
       "67   18.0   11.2\n",
       "\n",
       "[68 rows x 2 columns]"
      ]
     },
     "execution_count": 44,
     "metadata": {},
     "output_type": "execute_result"
    }
   ],
   "source": [
    "s[['depth','value']]"
   ]
  },
  {
   "cell_type": "code",
   "execution_count": 36,
   "id": "d2376d88-f961-463e-8cf8-e725e1c8333a",
   "metadata": {},
   "outputs": [],
   "source": [
    "s2=LayerMeasurements.from_area(shp=gdf.geometry[0], instrument='IS3-SP-11-01F', site_name='Grand Mesa')"
   ]
  },
  {
   "cell_type": "code",
   "execution_count": 37,
   "id": "df0b72f6-ac86-4c90-8336-bc53a1ee7e07",
   "metadata": {},
   "outputs": [
    {
     "data": {
      "text/plain": [
       "array(['1S2', '2S7'], dtype=object)"
      ]
     },
     "execution_count": 37,
     "metadata": {},
     "output_type": "execute_result"
    }
   ],
   "source": [
    "np.unique(s2['site_id'])"
   ]
  },
  {
   "cell_type": "code",
   "execution_count": null,
   "id": "d5efa1be-d2df-42a7-a597-ad256c54fe92",
   "metadata": {},
   "outputs": [],
   "source": []
  },
  {
   "cell_type": "code",
   "execution_count": 51,
   "id": "7428c040-61f8-4ca5-b61e-c99c2f5b76ac",
   "metadata": {},
   "outputs": [
    {
     "ename": "AttributeError",
     "evalue": "'GeoDataFrame' object has no attribute 'from_filter'",
     "output_type": "error",
     "traceback": [
      "\u001b[0;31m---------------------------------------------------------------------------\u001b[0m",
      "\u001b[0;31mAttributeError\u001b[0m                            Traceback (most recent call last)",
      "\u001b[0;32m/tmp/ipykernel_427/2546819169.py\u001b[0m in \u001b[0;36m?\u001b[0;34m()\u001b[0m\n\u001b[0;32m----> 1\u001b[0;31m \u001b[0ms2\u001b[0m\u001b[0;34m.\u001b[0m\u001b[0mfrom_filter\u001b[0m\u001b[0;34m(\u001b[0m\u001b[0msite_id\u001b[0m\u001b[0;34m=\u001b[0m\u001b[0;34m'2s7'\u001b[0m\u001b[0;34m)\u001b[0m\u001b[0;34m\u001b[0m\u001b[0;34m\u001b[0m\u001b[0m\n\u001b[0m",
      "\u001b[0;32m/srv/conda/envs/notebook/lib/python3.11/site-packages/pandas/core/generic.py\u001b[0m in \u001b[0;36m?\u001b[0;34m(self, name)\u001b[0m\n\u001b[1;32m   6295\u001b[0m             \u001b[0;32mand\u001b[0m \u001b[0mname\u001b[0m \u001b[0;32mnot\u001b[0m \u001b[0;32min\u001b[0m \u001b[0mself\u001b[0m\u001b[0;34m.\u001b[0m\u001b[0m_accessors\u001b[0m\u001b[0;34m\u001b[0m\u001b[0;34m\u001b[0m\u001b[0m\n\u001b[1;32m   6296\u001b[0m             \u001b[0;32mand\u001b[0m \u001b[0mself\u001b[0m\u001b[0;34m.\u001b[0m\u001b[0m_info_axis\u001b[0m\u001b[0;34m.\u001b[0m\u001b[0m_can_hold_identifiers_and_holds_name\u001b[0m\u001b[0;34m(\u001b[0m\u001b[0mname\u001b[0m\u001b[0;34m)\u001b[0m\u001b[0;34m\u001b[0m\u001b[0;34m\u001b[0m\u001b[0m\n\u001b[1;32m   6297\u001b[0m         ):\n\u001b[1;32m   6298\u001b[0m             \u001b[0;32mreturn\u001b[0m \u001b[0mself\u001b[0m\u001b[0;34m[\u001b[0m\u001b[0mname\u001b[0m\u001b[0;34m]\u001b[0m\u001b[0;34m\u001b[0m\u001b[0;34m\u001b[0m\u001b[0m\n\u001b[0;32m-> 6299\u001b[0;31m         \u001b[0;32mreturn\u001b[0m \u001b[0mobject\u001b[0m\u001b[0;34m.\u001b[0m\u001b[0m__getattribute__\u001b[0m\u001b[0;34m(\u001b[0m\u001b[0mself\u001b[0m\u001b[0;34m,\u001b[0m \u001b[0mname\u001b[0m\u001b[0;34m)\u001b[0m\u001b[0;34m\u001b[0m\u001b[0;34m\u001b[0m\u001b[0m\n\u001b[0m",
      "\u001b[0;31mAttributeError\u001b[0m: 'GeoDataFrame' object has no attribute 'from_filter'"
     ]
    }
   ],
   "source": []
  },
  {
   "cell_type": "code",
   "execution_count": 53,
   "id": "6238cb66-71e7-4b80-a366-82abebe2e21d",
   "metadata": {},
   "outputs": [
    {
     "ename": "SyntaxError",
     "evalue": "positional argument follows keyword argument (553227028.py, line 4)",
     "output_type": "error",
     "traceback": [
      "\u001b[0;36m  Cell \u001b[0;32mIn[53], line 4\u001b[0;36m\u001b[0m\n\u001b[0;31m    ds = RasterMeasurements.from_filter(instrument='lidar','2020-02-02')\u001b[0m\n\u001b[0m                                                                       ^\u001b[0m\n\u001b[0;31mSyntaxError\u001b[0m\u001b[0;31m:\u001b[0m positional argument follows keyword argument\n"
     ]
    }
   ],
   "source": [
    "from snowexsql.api import RasterMeasurements\n",
    "from datetime import datetime \n",
    "from rasterio.plot import show\n",
    "dt = datetime(2020, 2, 4)\n",
    "ds = RasterMeasurements.from_filter(instrument='lidar',date=dt)"
   ]
  },
  {
   "cell_type": "code",
   "execution_count": null,
   "id": "fcba4fd3-8c50-4d81-a402-e26b09c32874",
   "metadata": {},
   "outputs": [],
   "source": []
  }
 ],
 "metadata": {
  "kernelspec": {
   "display_name": "Python 3 (ipykernel)",
   "language": "python",
   "name": "python3"
  },
  "language_info": {
   "codemirror_mode": {
    "name": "ipython",
    "version": 3
   },
   "file_extension": ".py",
   "mimetype": "text/x-python",
   "name": "python",
   "nbconvert_exporter": "python",
   "pygments_lexer": "ipython3",
   "version": "3.11.9"
  }
 },
 "nbformat": 4,
 "nbformat_minor": 5
}

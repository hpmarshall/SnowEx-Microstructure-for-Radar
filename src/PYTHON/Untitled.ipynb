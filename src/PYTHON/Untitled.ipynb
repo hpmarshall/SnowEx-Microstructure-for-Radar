{
 "cells": [
  {
   "cell_type": "markdown",
   "id": "eced43c4-7725-4b88-bd20-45b7e901224d",
   "metadata": {},
   "source": [
    "This notebook tests the python implementation of readSnowEx_microCT"
   ]
  },
  {
   "cell_type": "code",
   "execution_count": 1,
   "id": "09493567-8ce8-4a83-a945-82293a0823b1",
   "metadata": {
    "scrolled": true
   },
   "outputs": [
    {
     "ename": "ModuleNotFoundError",
     "evalue": "No module named 'pandas'",
     "output_type": "error",
     "traceback": [
      "\u001b[0;31m---------------------------------------------------------------------------\u001b[0m",
      "\u001b[0;31mModuleNotFoundError\u001b[0m                       Traceback (most recent call last)",
      "Cell \u001b[0;32mIn[1], line 1\u001b[0m\n\u001b[0;32m----> 1\u001b[0m \u001b[38;5;28;01mimport\u001b[39;00m \u001b[38;5;21;01mreadSnowEx_microCT\u001b[39;00m\n",
      "File \u001b[0;32m~/microsnowex2024/src/PYTHON/readSnowEx_microCT.py:2\u001b[0m\n\u001b[1;32m      1\u001b[0m \u001b[38;5;28;01mimport\u001b[39;00m \u001b[38;5;21;01mos\u001b[39;00m\n\u001b[0;32m----> 2\u001b[0m \u001b[38;5;28;01mimport\u001b[39;00m \u001b[38;5;21;01mpandas\u001b[39;00m \u001b[38;5;28;01mas\u001b[39;00m \u001b[38;5;21;01mpd\u001b[39;00m\n\u001b[1;32m      4\u001b[0m \u001b[38;5;28;01mdef\u001b[39;00m \u001b[38;5;21mreadSnowEx_microCT\u001b[39m(base_path, siteNums):\n\u001b[1;32m      5\u001b[0m \u001b[38;5;250m    \u001b[39m\u001b[38;5;124;03m\"\"\"\u001b[39;00m\n\u001b[1;32m      6\u001b[0m \u001b[38;5;124;03m    Reads SnowEx MicroCT data files from the specified base path for given site numbers.\u001b[39;00m\n\u001b[1;32m      7\u001b[0m \u001b[38;5;124;03m    \u001b[39;00m\n\u001b[0;32m   (...)\u001b[0m\n\u001b[1;32m     13\u001b[0m \u001b[38;5;124;03m    - data_microCT (dict): A dictionary containing structured data with morphometry variables for each site.\u001b[39;00m\n\u001b[1;32m     14\u001b[0m \u001b[38;5;124;03m    \"\"\"\u001b[39;00m\n",
      "\u001b[0;31mModuleNotFoundError\u001b[0m: No module named 'pandas'"
     ]
    }
   ],
   "source": [
    "import readSnowEx_microCT"
   ]
  },
  {
   "cell_type": "code",
   "execution_count": null,
   "id": "44f127e6-d74b-4075-9129-a2550880a103",
   "metadata": {},
   "outputs": [],
   "source": [
    "base_path = '/home/jovyan/shared-public/microsnowex2024/microCT/2020.02.03/'\n",
    "siteNums = ['2s7', 'n13']\n",
    "data = mCT.readSnowEx_microCT(base_path, siteNums)"
   ]
  },
  {
   "cell_type": "code",
   "execution_count": null,
   "id": "465ad266-25f3-430d-ad41-7599373a8b0c",
   "metadata": {},
   "outputs": [],
   "source": [
    "!pwd"
   ]
  },
  {
   "cell_type": "code",
   "execution_count": null,
   "id": "9d541679-0105-438d-b75c-39197c960996",
   "metadata": {},
   "outputs": [],
   "source": []
  }
 ],
 "metadata": {
  "kernelspec": {
   "display_name": "Python 3 (ipykernel)",
   "language": "python",
   "name": "python3"
  },
  "language_info": {
   "codemirror_mode": {
    "name": "ipython",
    "version": 3
   },
   "file_extension": ".py",
   "mimetype": "text/x-python",
   "name": "python",
   "nbconvert_exporter": "python",
   "pygments_lexer": "ipython3",
   "version": "3.10.11"
  }
 },
 "nbformat": 4,
 "nbformat_minor": 5
}

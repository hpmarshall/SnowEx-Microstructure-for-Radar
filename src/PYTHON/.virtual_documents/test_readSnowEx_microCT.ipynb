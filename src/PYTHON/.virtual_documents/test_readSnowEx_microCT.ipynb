


import readSnowEx_microCT as mCT


base_path = '/Users/hpmarshall/DATA_DRIVE/GRANDMESA/microCT/2020.02.03/'
siteNums = ['2s7']
data = mCT.readSnowEx_microCT(base_path, siteNums)


for key, value in data.items():
  print(key, ":", value)







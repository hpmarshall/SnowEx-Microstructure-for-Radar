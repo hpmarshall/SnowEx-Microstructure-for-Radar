


import readSnowEx_microCT


!pwd


base_path = '/Users/hpmarshall/DATA_DRIVE/GRANDMESA/microCT/2020.02.03/'
siteNums = ['2s7', 'n13']
data = readSnowEx_microCT(base_path, siteNums)


import readSnowEx_microCT as mCT


data=mCT.readSnowEx_microCT(base_path, siteNums)




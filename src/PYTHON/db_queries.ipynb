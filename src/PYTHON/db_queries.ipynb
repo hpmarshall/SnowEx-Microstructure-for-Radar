{
 "cells": [
  {
   "cell_type": "code",
   "execution_count": 16,
   "id": "42ff0d03-93dc-4bff-8817-c0c0a30bd6cc",
   "metadata": {},
   "outputs": [
    {
     "name": "stdout",
     "output_type": "stream",
     "text": [
      " SNEX20_SMP_S19M1284_1S17_20200208.PNT\n",
      " SNEX20_SMP_S19M1285_1S17_20200208.PNT\n",
      " SNEX20_SMP_S19M1287_1S17_20200208.PNT\n",
      " SNEX20_SMP_S19M1289_1S17_20200208.PNT\n",
      " SNEX20_SMP_S19M1290_1S17_20200208.PNT\n",
      " SNEX20_SMP_S19M1291_1S17_20200208.PNT\n",
      " SNEX20_SMP_S19M1292_1S17_20200208.PNT\n",
      " SNEX20_SMP_S19M1293_1S17_20200208.PNT\n",
      " SNEX20_SMP_S19M1294_1S17_20200208.PNT\n",
      " SNEX20_SMP_S19M1296_1S17_20200208.PNT\n",
      " SNEX20_SMP_S19M1269_2S16_20200208.PNT\n",
      " SNEX20_SMP_S19M1267_2S16_20200208.PNT\n",
      " SNEX20_SMP_S19M1263_2S16_20200208.PNT\n",
      " SNEX20_SMP_S19M1260_2S16_20200208.PNT\n",
      " SNEX20_SMP_S19M1274_2S16_20200208.PNT\n",
      " SNEX20_SMP_S19M1283_2S16_20200208.PNT\n",
      " SNEX20_SMP_S19M1279_2S16_20200208.PNT\n",
      " SNEX20_SMP_S19M1264_2S16_20200208.PNT\n",
      " SNEX20_SMP_S19M1276_2S16_20200208.PNT\n",
      " SNEX20_SMP_S19M1277_2S16_20200208.PNT\n",
      " SNEX20_SMP_S19M1265_2S16_20200208.PNT\n",
      " SNEX20_SMP_S19M1281_2S16_20200208.PNT\n",
      " SNEX20_SMP_S19M1272_2S16_20200208.PNT\n",
      " SNEX20_SMP_S19M1261_2S16_20200208.PNT\n",
      " SNEX20_SMP_S19M1282_2S16_20200208.PNT\n",
      " SNEX20_SMP_S19M1268_2S16_20200208.PNT\n",
      " SNEX20_SMP_S19M1266_2S16_20200208.PNT\n",
      " SNEX20_SMP_S19M1273_2S16_20200208.PNT\n",
      " SNEX20_SMP_S19M1280_2S16_20200208.PNT\n",
      " SNEX20_SMP_S19M1262_2S16_20200208.PNT\n",
      " SNEX20_SMP_S19M1270_2S16_20200208.PNT\n",
      " SNEX20_SMP_S19M1275_2S16_20200208.PNT\n",
      " SNEX20_SMP_S19M1271_2S16_20200208.PNT\n",
      " SNEX20_SMP_S19M1278_2S16_20200208.PNT\n",
      " SNEX20_SMP_S19M1247_2S7_20200208.PNT\n",
      " SNEX20_SMP_S19M1244_2S7_20200208.PNT\n",
      " SNEX20_SMP_S19M1236_2S7_20200208.PNT\n",
      " SNEX20_SMP_S19M1250_2S7_20200208.PNT\n",
      " SNEX20_SMP_S19M1256_2S7_20200208.PNT\n",
      " SNEX20_SMP_S19M1237_2S7_20200208.PNT\n",
      " SNEX20_SMP_S19M1245_2S7_20200208.PNT\n",
      " SNEX20_SMP_S19M1249_2S7_20200208.PNT\n",
      " SNEX20_SMP_S19M1246_2S7_20200208.PNT\n",
      " SNEX20_SMP_S19M1242_2S7_20200208.PNT\n",
      " SNEX20_SMP_S19M1255_2S7_20200208.PNT\n",
      " SNEX20_SMP_S19M1254_2S7_20200208.PNT\n",
      " SNEX20_SMP_S19M1240_2S7_20200208.PNT\n",
      " SNEX20_SMP_S19M1243_2S7_20200208.PNT\n",
      " SNEX20_SMP_S19M1241_2S7_20200208.PNT\n",
      " SNEX20_SMP_S19M1257_2S7_20200208.PNT\n",
      " SNEX20_SMP_S19M1251_2S7_20200208.PNT\n",
      " SNEX20_SMP_S19M1239_2S7_20200208.PNT\n"
     ]
    }
   ],
   "source": [
    "#find the SMP files associated with the Sites of Interest \n",
    "from snowexsql.data import LayerData \n",
    "from snowexsql.db import get_db \n",
    "\n",
    "\n",
    "# This is what you will use for all of hackweek to access the db\n",
    "db_name = 'snow:hackweek@db.snowexdata.org/snowex'\n",
    "\n",
    "# Using the function get_db, we receive 2 ways to interact with the database\n",
    "engine, session = get_db(db_name)\n",
    "\n",
    "\n",
    "# Sites of interest\n",
    "sites = ['1S17', '2S16', '2S7']\n",
    "\n",
    "for site in sites:\n",
    "    file_comments = session.query(LayerData.comments).filter(LayerData.comments.contains(site)).distinct().all()\n",
    "    #Filter and build out the files names\n",
    "    for c in file_comments:\n",
    "        print(c[0].split(',')[0].split('=')[-1].replace('CSV','PNT'))\n"
   ]
  },
  {
   "cell_type": "code",
   "execution_count": null,
   "id": "7bcf61bb-ef25-4d20-90b7-f3af89afa553",
   "metadata": {},
   "outputs": [],
   "source": []
  }
 ],
 "metadata": {
  "kernelspec": {
   "display_name": "Python 3 (ipykernel)",
   "language": "python",
   "name": "python3"
  },
  "language_info": {
   "codemirror_mode": {
    "name": "ipython",
    "version": 3
   },
   "file_extension": ".py",
   "mimetype": "text/x-python",
   "name": "python",
   "nbconvert_exporter": "python",
   "pygments_lexer": "ipython3",
   "version": "3.11.9"
  }
 },
 "nbformat": 4,
 "nbformat_minor": 5
}

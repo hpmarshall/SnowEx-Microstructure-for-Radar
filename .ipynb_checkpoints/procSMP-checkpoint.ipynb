{
 "cells": [
  {
   "cell_type": "markdown",
   "id": "4bd9696a-c455-40c5-9fb8-b2daa578b7c8",
   "metadata": {},
   "source": [
    "Process SMP data to get microstructural parameters and surface/ground picks"
   ]
  },
  {
   "cell_type": "code",
   "execution_count": 2,
   "id": "72a14efb-5701-44e2-b409-a3e0be2f942a",
   "metadata": {},
   "outputs": [],
   "source": [
    "import logging\n",
    "import glob\n",
    "import sys\n",
    "import pandas as pd\n",
    "\n",
    "# Enable logging to stdout to see what's going on under the hood\n",
    "logging.basicConfig(level=logging.INFO, stream=sys.stdout)\n",
    "\n",
    "from snowmicropyn import Profile\n",
    "from snowmicropyn.detection import detect_ground, detect_surface\n",
    "match = 'data/SMP/*.PNT'\n",
    "for f in glob.glob(match):\n",
    "    p = Profile.load(f)\n",
    "    # Explicit...\n",
    "    ground = detect_ground(p)\n",
    "    surface = detect_surface(p)\n",
    "    print('Surface: {} mm'.format(surface))\n",
    "    print('Ground: {} mm'.format(ground))\n",
    "    df = pd.DataFrame([surface, ground])\n",
    "    df.to_csv(f[0:len(f)-4] + '.csv')"
   ]
  },
  {
   "cell_type": "code",
   "execution_count": 3,
   "id": "ad6a4b5f-6264-4ece-932a-39b019df8cbe",
   "metadata": {},
   "outputs": [
    {
     "name": "stdout",
     "output_type": "stream",
     "text": [
      "/Users/hpmarshall/HP_DRIVE/microsnowex2024/data/SMP\n"
     ]
    }
   ],
   "source": [
    "!pwd"
   ]
  },
  {
   "cell_type": "code",
   "execution_count": null,
   "id": "86288681-fe00-408f-b437-e8d6331f3ee0",
   "metadata": {},
   "outputs": [],
   "source": []
  }
 ],
 "metadata": {
  "kernelspec": {
   "display_name": "Python 3 (ipykernel)",
   "language": "python",
   "name": "python3"
  },
  "language_info": {
   "codemirror_mode": {
    "name": "ipython",
    "version": 3
   },
   "file_extension": ".py",
   "mimetype": "text/x-python",
   "name": "python",
   "nbconvert_exporter": "python",
   "pygments_lexer": "ipython3",
   "version": "3.11.9"
  }
 },
 "nbformat": 4,
 "nbformat_minor": 5
}
